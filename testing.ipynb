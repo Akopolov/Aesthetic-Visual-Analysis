{
 "cells": [
  {
   "cell_type": "code",
   "execution_count": 1,
   "metadata": {
    "scrolled": true
   },
   "outputs": [],
   "source": [
    "import numpy as np\n",
    "import pandas as pd\n",
    "\n",
    "from src.reader import Reader\n",
    "from src.downloader import Downloader\n",
    "from src.localreader import LocalReader, SHRINK, CENTERING, getMean"
   ]
  },
  {
   "cell_type": "code",
   "execution_count": 2,
   "metadata": {},
   "outputs": [],
   "source": [
    "#Download images Starting from 1st challange to 10th challange\n",
    "#In other words dowload 10 1st subsets\n",
    "#downloader = Downloader(start=0, end=10)\n",
    "#downloader.download(path=\"data/AVA.txt\")"
   ]
  },
  {
   "cell_type": "code",
   "execution_count": 6,
   "metadata": {
    "scrolled": false
   },
   "outputs": [
    {
     "name": "stdout",
     "output_type": "stream",
     "text": [
      "[============================================================] 100.0% .531.tar.gz    \n",
      "(234, 256, 256, 3)\n",
      "(234, 10)\n",
      "(234,)\n",
      "count    234.000000\n",
      "mean       5.130067\n",
      "std        0.626367\n",
      "min        2.812227\n",
      "25%        4.711046\n",
      "50%        5.166984\n",
      "75%        5.531546\n",
      "max        6.995763\n",
      "dtype: float64\n",
      "[============================================================] 100.0% .430.tar.gz    \n",
      "(828, 256, 256, 3)\n",
      "(828, 10)\n",
      "(828,)\n",
      "count    828.000000\n",
      "mean       5.635811\n",
      "std        0.690438\n",
      "min        3.196305\n",
      "25%        5.174244\n",
      "50%        5.627838\n",
      "75%        6.119288\n",
      "max        7.987448\n",
      "dtype: float64\n",
      "[============================================================] 100.0% .859.tar.gz    \n",
      "(194, 256, 256, 3)\n",
      "(194, 10)\n",
      "(194,)\n",
      "count    194.000000\n",
      "mean       5.764495\n",
      "std        0.633411\n",
      "min        3.937063\n",
      "25%        5.358699\n",
      "50%        5.804905\n",
      "75%        6.171088\n",
      "max        7.223776\n",
      "dtype: float64\n"
     ]
    }
   ],
   "source": [
    "reader = LocalReader(width=256, height=256, shaping=SHRINK)\n",
    "for images, scores in reader.read(start=0, end=3):\n",
    "    print(images.shape)\n",
    "    print(scores.shape)\n",
    "    score_mean = getMean(scores)\n",
    "    print(score_mean.shape)\n",
    "    print(pd.Series(score_mean).describe())"
   ]
  },
  {
   "cell_type": "code",
   "execution_count": null,
   "metadata": {},
   "outputs": [],
   "source": []
  }
 ],
 "metadata": {
  "kernelspec": {
   "display_name": "Python 3",
   "language": "python",
   "name": "python3"
  },
  "language_info": {
   "codemirror_mode": {
    "name": "ipython",
    "version": 3
   },
   "file_extension": ".py",
   "mimetype": "text/x-python",
   "name": "python",
   "nbconvert_exporter": "python",
   "pygments_lexer": "ipython3",
   "version": "3.6.8"
  }
 },
 "nbformat": 4,
 "nbformat_minor": 2
}
