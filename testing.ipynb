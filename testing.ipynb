{
 "cells": [
  {
   "cell_type": "code",
   "execution_count": 3,
   "metadata": {
    "scrolled": true
   },
   "outputs": [],
   "source": [
    "import matplotlib.pyplot as plt\n",
    "import numpy as np\n",
    "import pandas as pd\n",
    "import pickle\n",
    "\n",
    "from src.reader import Reader\n",
    "from src.downloader import Downloader\n",
    "from src.localreader import LocalReader, SHRINK, CROP\n",
    "from src.processedreader import ProcessedReader"
   ]
  },
  {
   "cell_type": "code",
   "execution_count": 4,
   "metadata": {},
   "outputs": [
    {
     "name": "stdout",
     "output_type": "stream",
     "text": [
      "   val_loss  val_mean_squared_error      loss  mean_squared_error\n",
      "0  0.707822                0.707822  0.718990            0.718990\n",
      "1  0.726550                0.726550  0.334936            0.334936\n",
      "2  1.208082                1.208082  0.240394            0.240394\n",
      "3  0.652293                0.652293  0.289509            0.289509\n",
      "4  0.739265                0.739265  0.089690            0.089690\n",
      "5  0.694429                0.694429  0.088640            0.088640\n",
      "6  0.697101                0.697101  0.262388            0.262388\n",
      "7  0.855397                0.855397  0.153169            0.153169\n",
      "8  0.714276                0.714276  0.046746            0.046746\n",
      "9  0.922317                0.922317  0.066775            0.066775\n"
     ]
    },
    {
     "data": {
      "image/png": "[encoded data removed]",
      "text/plain": [
       "<Figure size 432x288 with 1 Axes>"
      ]
     },
     "metadata": {
      "needs_background": "light"
     },
     "output_type": "display_data"
    }
   ],
   "source": [
    "with open('results/trainHistoryDict', \"rb\") as file:\n",
    "    history = pickle.load(file)\n",
    "    df = pd.DataFrame.from_dict(history)\n",
    "    print(df)\n",
    "#     print(history.keys())\n",
    "#     print(history)\n",
    "    \n",
    "    # Plot training & validation accuracy values\n",
    "    plt.plot(history['mean_squared_error'])\n",
    "    plt.plot(history['val_mean_squared_error'])\n",
    "    plt.title('Model MSE')\n",
    "    plt.ylabel('Mean Squared Error')\n",
    "    plt.xlabel('Epoch')\n",
    "    plt.legend(['Train', 'Validate'], loc='upper left')\n",
    "    plt.show()\n",
    "\n",
    "#     # Plot training & validation loss values\n",
    "#     plt.plot(history['loss'])\n",
    "#     plt.plot(history['mean_squared_error'])\n",
    "#     plt.title('Model loss')\n",
    "#     plt.ylabel('Loss')\n",
    "#     plt.xlabel('Epoch')\n",
    "#     plt.legend(['Train', 'Test'], loc='upper left')\n",
    "#     plt.show()"
   ]
  },
  {
   "cell_type": "code",
   "execution_count": null,
   "metadata": {},
   "outputs": [],
   "source": [
    "#Download images Starting from 1st challange to 10th challange\n",
    "#In other words dowload 10 1st subsets\n",
    "#downloader = Downloader(start=0, end=10)\n",
    "#downloader.download(path=\"data/AVA.txt\")"
   ]
  },
  {
   "cell_type": "code",
   "execution_count": null,
   "metadata": {},
   "outputs": [],
   "source": [
    "# reader = LocalReader(validation_size=0.2, shaping=CROP)\n",
    "# reader.preprocess(start=0, end=1)"
   ]
  },
  {
   "cell_type": "code",
   "execution_count": null,
   "metadata": {},
   "outputs": [],
   "source": [
    "reader = LocalReader(validation_size=0.2, shaping=CROP)\n",
    "for images, scores in reader.train(start=0, end=10):\n",
    "    print(images.shape)\n",
    "    print(scores.shape)"
   ]
  },
  {
   "cell_type": "code",
   "execution_count": null,
   "metadata": {},
   "outputs": [],
   "source": [
    "reader = LocalReader(validation_size=0.2, shaping=SHRINK)\n",
    "for images, scores in reader.train(start=0, end=10):\n",
    "    print(images.shape)\n",
    "    print(scores.shape)"
   ]
  },
  {
   "cell_type": "code",
   "execution_count": null,
   "metadata": {
    "scrolled": false
   },
   "outputs": [],
   "source": [
    "reader = LocalReader(shaping=CROP)\n",
    "reader.preprocess(start=0, end=10)"
   ]
  },
  {
   "cell_type": "code",
   "execution_count": 5,
   "metadata": {
    "scrolled": true
   },
   "outputs": [
    {
     "name": "stdout",
     "output_type": "stream",
     "text": [
      "[============================================================] 100.0% .Process Iteration: 437, Image id: 3430        \r"
     ]
    }
   ],
   "source": [
    "downloader = Downloader(start=437, end=438)\n",
    "downloader.download(path=\"data/AVA.txt\")"
   ]
  },
  {
   "cell_type": "code",
   "execution_count": null,
   "metadata": {},
   "outputs": [],
   "source": []
  }
 ],
 "metadata": {
  "kernelspec": {
   "display_name": "Python 3",
   "language": "python",
   "name": "python3"
  },
  "language_info": {
   "codemirror_mode": {
    "name": "ipython",
    "version": 3
   },
   "file_extension": ".py",
   "mimetype": "text/x-python",
   "name": "python",
   "nbconvert_exporter": "python",
   "pygments_lexer": "ipython3",
   "version": "3.6.8"
  }
 },
 "nbformat": 4,
 "nbformat_minor": 2
}
