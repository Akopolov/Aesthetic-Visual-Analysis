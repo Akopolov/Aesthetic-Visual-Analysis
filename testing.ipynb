{
 "cells": [
  {
   "cell_type": "code",
   "execution_count": null,
   "metadata": {
    "scrolled": true
   },
   "outputs": [],
   "source": [
    "import numpy as np\n",
    "import pandas as pd\n",
    "\n",
    "from src.reader import Reader\n",
    "from src.downloader import Downloader\n",
    "from src.localreader import LocalReader, SHRINK, CENTERING, getMean"
   ]
  },
  {
   "cell_type": "code",
   "execution_count": null,
   "metadata": {},
   "outputs": [],
   "source": [
    "#Download images Starting from 1st challange to 10th challange\n",
    "#In other words dowload 10 1st subsets\n",
    "#downloader = Downloader(start=0, end=10)\n",
    "#downloader.download(path=\"data/AVA.txt\")"
   ]
  },
  {
   "cell_type": "code",
   "execution_count": null,
   "metadata": {
    "scrolled": false
   },
   "outputs": [],
   "source": [
    "reader = LocalReader(width=256, height=256, shaping=SHRINK)\n",
    "for images, scores in reader.read(start=0, end=3):\n",
    "    print(images.shape)\n",
    "    print(scores.shape)\n",
    "    score_mean = getMean(scores)\n",
    "    print(score_mean.shape)\n",
    "    print(pd.Series(score_mean).describe())"
   ]
  },
  {
   "cell_type": "code",
   "execution_count": 47,
   "metadata": {},
   "outputs": [],
   "source": [
    "import urllib.request\n",
    "import tarfile\n",
    "import time\n",
    "import os\n",
    "\n",
    "import numpy as np\n",
    "import cv2 as cv\n",
    "\n",
    "from typing import List, Dict, Tuple\n",
    "from PIL import Image\n",
    "\n",
    "from src.util import progress\n",
    "from src.util import get_links_from_file\n",
    "\n",
    "SHRINK = 'shrink'\n",
    "CENTERING = 'centering'\n",
    "\n",
    "class LocalReader():\n",
    "    def __init__(self, height=256, width=256, validation_size=0.1 ,shaping=SHRINK, \n",
    "                 img_path='data/images/original', ava_path='data/AVA.txt')-> None:\n",
    "        super().__init__()\n",
    "        self.validation_size = validation_size\n",
    "        self.size = (width, height)\n",
    "        self.shaping = shaping\n",
    "        self.img_path = img_path\n",
    "        self.ava_path = ava_path\n",
    "\n",
    "    def train(self, start=0, end=3)->Tuple:\n",
    "        current=0\n",
    "        for tar in os.listdir(self.img_path):\n",
    "            if current == end:    \n",
    "                break\n",
    "            elif current < start:\n",
    "                current += 1\n",
    "                continue\n",
    "            else:\n",
    "                current += 1\n",
    "                yield self.get_images(tar_name=tar, isValidation=False)\n",
    "                \n",
    "    def validate(self, start=0, end=3)->Tuple:\n",
    "        current=0\n",
    "        for tar in os.listdir(self.img_path):\n",
    "            if current == end:    \n",
    "                break\n",
    "            elif current < start:\n",
    "                current += 1\n",
    "                continue\n",
    "            else:\n",
    "                current += 1\n",
    "                yield self.get_images(tar_name=tar, isValidation=True)\n",
    "                \n",
    "    def get_images(self, tar_name:str, isValidation:bool)->Tuple:\n",
    "        images = []\n",
    "        labels = []\n",
    "        label_map = {}\n",
    "        with tarfile.open(self.img_path + \"/\" + tar_name, \"r:gz\") as tar:\n",
    "            label_map = self.get_scores(tar_name.split(\".\")[0])\n",
    "            tar_size = len(tar.getmembers())\n",
    "\n",
    "            start = 0\n",
    "            end = 0\n",
    "            \n",
    "            if(isValidation):\n",
    "                start = int(tar_size * (1 - self.validation_size))\n",
    "                end = tar_size\n",
    "            else:\n",
    "                start = 0\n",
    "                end = int(tar_size * (1 - self.validation_size))\n",
    "                \n",
    "            print(\"Tottal: {0}\".format(tar_size))\n",
    "            for count, member in enumerate(tar.getmembers()):\n",
    "                if(count>= start and count<end):                    \n",
    "                    file = tar.extractfile(member)\n",
    "                    labels.append(label_map[member.name.split(\".\")[0]])\n",
    "                    img = np.asarray(bytearray(file.read()), dtype=\"uint8\")\n",
    "                    images.append(self.procces_image(img))\n",
    "                \n",
    "        return (np.array(images), np.array(getMean(labels)))\n",
    "    \n",
    "    def get_scores(self, challenge:str)->Dict:\n",
    "        can_break = False\n",
    "        score_map = {}\n",
    "        with open(self.ava_path, \"r\") as file:\n",
    "            for line in file:\n",
    "                values = line.split(\" \")\n",
    "                if challenge == values[14].rstrip():\n",
    "                    score_map[values[1]] = list(map(int, values[2:12]))\n",
    "                    can_break = True\n",
    "                elif can_break:\n",
    "                    return score_map\n",
    "            return score_map\n",
    "    \n",
    "    def procces_image(self, img)->np.ndarray:\n",
    "        img = cv.imdecode(img, cv.IMREAD_COLOR)\n",
    "        if self.shaping == SHRINK:\n",
    "            return cv.resize(img, self.size)\n",
    "        elif self.shaping == CENTERING:\n",
    "            #TODO: Finish Centring\n",
    "            print(img.shape)\n",
    "            width = int(img.shape[0]/2) - int(self.size[0]/2)\n",
    "            height = int(img.shape[1]/2) - int(self.size[1]/2)\n",
    "            img = img[width:width+self.size[0], height:height+self.size[1]] \n",
    "            print(img.shape)\n",
    "            return img\n",
    "\n",
    "def mean_function(labels):\n",
    "    result = 0\n",
    "    for i in range(len(labels)):\n",
    "        result += (i + 1) * labels[i]\n",
    "    result /= np.sum(labels)\n",
    "    return result\n",
    "        \n",
    "def getMean(scores):\n",
    "    return np.array(list(map(mean_function, scores)), dtype=np.float64)"
   ]
  },
  {
   "cell_type": "code",
   "execution_count": 48,
   "metadata": {},
   "outputs": [
    {
     "name": "stdout",
     "output_type": "stream",
     "text": [
      "Tottal: 234\n",
      "(187, 256, 256, 3)\n",
      "(187,)\n",
      "Tottal: 234\n",
      "(47, 256, 256, 3)\n",
      "(47,)\n"
     ]
    }
   ],
   "source": [
    "reader = LocalReader(validation_size=0.2)\n",
    "for t in reader.train(end=1):\n",
    "    print(t[0].shape)\n",
    "    print(t[1].shape)\n",
    "    \n",
    "for v in reader.validate(end=1):\n",
    "    print(v[0].shape)\n",
    "    print(v[1].shape)"
   ]
  },
  {
   "cell_type": "code",
   "execution_count": null,
   "metadata": {},
   "outputs": [],
   "source": []
  }
 ],
 "metadata": {
  "kernelspec": {
   "display_name": "Python 3",
   "language": "python",
   "name": "python3"
  },
  "language_info": {
   "codemirror_mode": {
    "name": "ipython",
    "version": 3
   },
   "file_extension": ".py",
   "mimetype": "text/x-python",
   "name": "python",
   "nbconvert_exporter": "python",
   "pygments_lexer": "ipython3",
   "version": "3.6.8"
  }
 },
 "nbformat": 4,
 "nbformat_minor": 2
}
