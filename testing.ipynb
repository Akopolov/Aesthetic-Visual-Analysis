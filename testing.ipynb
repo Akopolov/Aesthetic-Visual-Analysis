{
 "cells": [
  {
   "cell_type": "code",
   "execution_count": 4,
   "metadata": {
    "scrolled": true
   },
   "outputs": [],
   "source": [
    "from src.reader import Reader\n",
    "import time"
   ]
  },
  {
   "cell_type": "code",
   "execution_count": 5,
   "metadata": {},
   "outputs": [],
   "source": [
    "reader = Reader()"
   ]
  },
  {
   "cell_type": "code",
   "execution_count": 6,
   "metadata": {},
   "outputs": [
    {
     "name": "stdout",
     "output_type": "stream",
     "text": [
      "Dataset setting up epoch: 0\n",
      "[============================================================] 100.0% ...Downloading Images\n",
      "Downloading time: 2.79s\n",
      "(5, 256, 256, 3)\n",
      "Dataset setting up epoch: 1\n",
      "[============================================================] 100.0% ...Downloading Images\n",
      "Downloading time: 2.84s\n",
      "(5, 256, 256, 3)\n"
     ]
    }
   ],
   "source": [
    "for batch in reader.read(path=\"data/AVA_test.txt\"):\n",
    "    print(batch.shape)\n",
    "    time.sleep(1)"
   ]
  }
 ],
 "metadata": {
  "kernelspec": {
   "display_name": "Python 3",
   "language": "python",
   "name": "python3"
  },
  "language_info": {
   "codemirror_mode": {
    "name": "ipython",
    "version": 3
   },
   "file_extension": ".py",
   "mimetype": "text/x-python",
   "name": "python",
   "nbconvert_exporter": "python",
   "pygments_lexer": "ipython3",
   "version": "3.6.8"
  }
 },
 "nbformat": 4,
 "nbformat_minor": 2
}
