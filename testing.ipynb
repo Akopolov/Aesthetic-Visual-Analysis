{
 "cells": [
  {
   "cell_type": "code",
   "execution_count": 1,
   "metadata": {
    "scrolled": true
   },
   "outputs": [],
   "source": [
    "from src.reader import Reader\n",
    "from src.downloader import Downloader\n",
    "from src.localreader import LocalReader, SHRINK, CENTERING"
   ]
  },
  {
   "cell_type": "code",
   "execution_count": null,
   "metadata": {},
   "outputs": [],
   "source": [
    "#Download images Starting from 1st challange to 10th challange\n",
    "#In other words dowload 10 1st subsets\n",
    "#downloader = Downloader(start=0, end=10)\n",
    "#downloader.download(path=\"data/AVA.txt\")"
   ]
  },
  {
   "cell_type": "code",
   "execution_count": 2,
   "metadata": {},
   "outputs": [
    {
     "name": "stdout",
     "output_type": "stream",
     "text": [
      "[============================================================] 100.0% .531.tar.gz    \n",
      "(234, 256, 256, 3)\n",
      "[============================================================] 100.0% .430.tar.gz    \n",
      "(828, 256, 256, 3)\n"
     ]
    }
   ],
   "source": [
    "reader = LocalReader(width=256, height=256, shaping=SHRINK)\n",
    "for images in reader.read(start=0, end=2):\n",
    "    print(images.shape)"
   ]
  },
  {
   "cell_type": "code",
   "execution_count": null,
   "metadata": {},
   "outputs": [],
   "source": []
  }
 ],
 "metadata": {
  "kernelspec": {
   "display_name": "Python 3",
   "language": "python",
   "name": "python3"
  },
  "language_info": {
   "codemirror_mode": {
    "name": "ipython",
    "version": 3
   },
   "file_extension": ".py",
   "mimetype": "text/x-python",
   "name": "python",
   "nbconvert_exporter": "python",
   "pygments_lexer": "ipython3",
   "version": "3.6.8"
  }
 },
 "nbformat": 4,
 "nbformat_minor": 2
}
