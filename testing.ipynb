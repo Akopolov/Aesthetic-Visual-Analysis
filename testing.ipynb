{
 "cells": [
  {
   "cell_type": "code",
   "execution_count": 1,
   "metadata": {
    "scrolled": true
   },
   "outputs": [],
   "source": [
    "import numpy as np\n",
    "import pandas as pd\n",
    "\n",
    "from src.reader import Reader\n",
    "from src.downloader import Downloader\n",
    "from src.localreader import LocalReader, SHRINK, CROP\n",
    "from src.processedreader import ProcessedReader"
   ]
  },
  {
   "cell_type": "code",
   "execution_count": 2,
   "metadata": {},
   "outputs": [],
   "source": [
    "#Download images Starting from 1st challange to 10th challange\n",
    "#In other words dowload 10 1st subsets\n",
    "#downloader = Downloader(start=0, end=10)\n",
    "#downloader.download(path=\"data/AVA.txt\")"
   ]
  },
  {
   "cell_type": "code",
   "execution_count": 3,
   "metadata": {},
   "outputs": [],
   "source": [
    "# reader = LocalReader(validation_size=0.2, shaping=CROP)\n",
    "# reader.preprocess(start=0, end=1)"
   ]
  },
  {
   "cell_type": "code",
   "execution_count": 5,
   "metadata": {},
   "outputs": [
    {
     "name": "stdout",
     "output_type": "stream",
     "text": [
      "(187, 256, 256, 3)\n",
      "(187,)\n",
      "(662, 256, 256, 3)\n",
      "(662,)\n",
      "(155, 256, 256, 3)\n",
      "(155,)\n",
      "(91, 256, 256, 3)\n",
      "(91,)\n",
      "(219, 256, 256, 3)\n",
      "(219,)\n",
      "(199, 256, 256, 3)\n",
      "(199,)\n",
      "(71, 256, 256, 3)\n",
      "(71,)\n",
      "(300, 256, 256, 3)\n",
      "(300,)\n",
      "(73, 256, 256, 3)\n",
      "(73,)\n",
      "(134, 256, 256, 3)\n",
      "(134,)\n"
     ]
    }
   ],
   "source": [
    "reader = LocalReader(validation_size=0.2, shaping=CROP)\n",
    "for images, scores in reader.train(start=0, end=10):\n",
    "    print(images.shape)\n",
    "    print(scores.shape)"
   ]
  },
  {
   "cell_type": "code",
   "execution_count": null,
   "metadata": {},
   "outputs": [],
   "source": [
    "reader = LocalReader(validation_size=0.2, shaping=SHRINK)\n",
    "for images, scores in reader.train(start=0, end=10):\n",
    "    print(images.shape)\n",
    "    print(scores.shape)"
   ]
  },
  {
   "cell_type": "code",
   "execution_count": 7,
   "metadata": {
    "scrolled": false
   },
   "outputs": [
    {
     "name": "stdout",
     "output_type": "stream",
     "text": [
      "Iteration: 1, 531.tar.gz\n",
      "Iteration: 2, 430.tar.gz\n",
      "Iteration: 3, 859.tar.gz\n",
      "Iteration: 4, 419.tar.gz\n",
      "Iteration: 5, 532.tar.gz\n",
      "Iteration: 6, 807.tar.gz\n",
      "Iteration: 7, 966.tar.gz\n",
      "Iteration: 8, 341.tar.gz\n",
      "Iteration: 9, 1190.tar.gz\n",
      "Iteration: 10, 1024.tar.gz\n"
     ]
    }
   ],
   "source": [
    "reader = LocalReader(shaping=CROP)\n",
    "reader.preprocess(start=0, end=10)"
   ]
  },
  {
   "cell_type": "code",
   "execution_count": null,
   "metadata": {},
   "outputs": [],
   "source": []
  }
 ],
 "metadata": {
  "kernelspec": {
   "display_name": "Python 3",
   "language": "python",
   "name": "python3"
  },
  "language_info": {
   "codemirror_mode": {
    "name": "ipython",
    "version": 3
   },
   "file_extension": ".py",
   "mimetype": "text/x-python",
   "name": "python",
   "nbconvert_exporter": "python",
   "pygments_lexer": "ipython3",
   "version": "3.6.8"
  }
 },
 "nbformat": 4,
 "nbformat_minor": 2
}
