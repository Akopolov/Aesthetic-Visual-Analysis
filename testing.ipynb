{
 "cells": [
  {
   "cell_type": "code",
   "execution_count": 1,
   "metadata": {
    "scrolled": true
   },
   "outputs": [],
   "source": [
    "import numpy as np\n",
    "import pandas as pd\n",
    "\n",
    "from src.reader import Reader\n",
    "from src.downloader import Downloader\n",
    "from src.localreader import LocalReader, SHRINK, CENTERING, getMean"
   ]
  },
  {
   "cell_type": "code",
   "execution_count": null,
   "metadata": {},
   "outputs": [],
   "source": [
    "#Download images Starting from 1st challange to 10th challange\n",
    "#In other words dowload 10 1st subsets\n",
    "#downloader = Downloader(start=0, end=10)\n",
    "#downloader.download(path=\"data/AVA.txt\")"
   ]
  },
  {
   "cell_type": "code",
   "execution_count": null,
   "metadata": {
    "scrolled": false
   },
   "outputs": [],
   "source": [
    "reader = LocalReader(width=256, height=256, shaping=SHRINK)\n",
    "for images, scores in reader.read(start=0, end=3):\n",
    "    print(images.shape)\n",
    "    print(scores.shape)\n",
    "    score_mean = getMean(scores)\n",
    "    print(score_mean.shape)\n",
    "    print(pd.Series(score_mean).describe())"
   ]
  },
  {
   "cell_type": "code",
   "execution_count": 2,
   "metadata": {},
   "outputs": [
    {
     "name": "stdout",
     "output_type": "stream",
     "text": [
      "Iteration: 1\n",
      "Iteration: 2\n",
      "Iteration: 3\n",
      "Iteration: 4\n",
      "Iteration: 5\n",
      "Iteration: 6\n",
      "Iteration: 7\n",
      "Iteration: 8\n",
      "Iteration: 9\n",
      "Iteration: 10\n"
     ]
    }
   ],
   "source": [
    "reader = LocalReader(validation_size=0.2)\n",
    "reader.preprocess(start=0, end=10)"
   ]
  },
  {
   "cell_type": "code",
   "execution_count": null,
   "metadata": {},
   "outputs": [],
   "source": []
  }
 ],
 "metadata": {
  "kernelspec": {
   "display_name": "Python 3",
   "language": "python",
   "name": "python3"
  },
  "language_info": {
   "codemirror_mode": {
    "name": "ipython",
    "version": 3
   },
   "file_extension": ".py",
   "mimetype": "text/x-python",
   "name": "python",
   "nbconvert_exporter": "python",
   "pygments_lexer": "ipython3",
   "version": "3.6.8"
  }
 },
 "nbformat": 4,
 "nbformat_minor": 2
}
