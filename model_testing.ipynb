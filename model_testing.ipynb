{
 "cells": [
  {
   "cell_type": "code",
   "execution_count": 1,
   "metadata": {},
   "outputs": [],
   "source": [
    "import numpy as np\n",
    "import pandas as pd\n",
    "\n",
    "from src.reader import Reader\n",
    "from src.downloader import Downloader\n",
    "from src.localreader import LocalReader, SHRINK, CENTERING, getMean"
   ]
  },
  {
   "cell_type": "code",
   "execution_count": 2,
   "metadata": {},
   "outputs": [
    {
     "name": "stderr",
     "output_type": "stream",
     "text": [
      "Using TensorFlow backend.\n"
     ]
    }
   ],
   "source": [
    "from keras import backend as K\n",
    "from keras.models import Model\n",
    "from keras.layers import Input, Conv2D, MaxPooling2D, Activation, Flatten, Dense, BatchNormalization\n",
    "from keras.optimizers import Adam"
   ]
  },
  {
   "cell_type": "code",
   "execution_count": 3,
   "metadata": {},
   "outputs": [],
   "source": [
    "def get_cnn():\n",
    "    x = Input(shape=(256, 256, 3))\n",
    "    h = Conv2D(64, (11, 11), strides=(2, 2))(x)\n",
    "    h = Activation('relu')(h)\n",
    "    h = MaxPooling2D(pool_size=(2, 2))(h)\n",
    "    h = BatchNormalization()(h)\n",
    "\n",
    "    h = Conv2D(64, (5, 5), strides=(1, 1))(h)\n",
    "    h = Activation('relu')(h)\n",
    "    h = MaxPooling2D(pool_size=(2, 2))(h)\n",
    "    h = BatchNormalization()(h)\n",
    "\n",
    "    h = Conv2D(64, (3, 3), strides=(1, 1))(h)\n",
    "    h = Activation('relu')(h)\n",
    "\n",
    "    h = Conv2D(64, (3, 3), strides=(1, 1))(h)\n",
    "    h = Activation('relu')(h)\n",
    "\n",
    "    h = Flatten()(h)\n",
    "    h = Dense(1000)(h)\n",
    "    h = Activation('relu')(h)\n",
    "\n",
    "    h = Dense(256)(h)\n",
    "    h = Activation('relu')(h)\n",
    "\n",
    "    p = Dense(10, activation=\"linear\")(h)\n",
    "\n",
    "    model = Model(inputs=x, outputs=p)\n",
    "    \n",
    "    return model"
   ]
  },
  {
   "cell_type": "code",
   "execution_count": 5,
   "metadata": {},
   "outputs": [
    {
     "name": "stdout",
     "output_type": "stream",
     "text": [
      "_________________________________________________________________\n",
      "Layer (type)                 Output Shape              Param #   \n",
      "=================================================================\n",
      "input_2 (InputLayer)         (None, 256, 256, 3)       0         \n",
      "_________________________________________________________________\n",
      "conv2d_3 (Conv2D)            (None, 123, 123, 64)      23296     \n",
      "_________________________________________________________________\n",
      "activation_3 (Activation)    (None, 123, 123, 64)      0         \n",
      "_________________________________________________________________\n",
      "max_pooling2d_3 (MaxPooling2 (None, 61, 61, 64)        0         \n",
      "_________________________________________________________________\n",
      "batch_normalization_3 (Batch (None, 61, 61, 64)        256       \n",
      "_________________________________________________________________\n",
      "conv2d_4 (Conv2D)            (None, 57, 57, 64)        102464    \n",
      "_________________________________________________________________\n",
      "activation_4 (Activation)    (None, 57, 57, 64)        0         \n",
      "_________________________________________________________________\n",
      "max_pooling2d_4 (MaxPooling2 (None, 28, 28, 64)        0         \n",
      "_________________________________________________________________\n",
      "batch_normalization_4 (Batch (None, 28, 28, 64)        256       \n",
      "_________________________________________________________________\n",
      "conv2d_5 (Conv2D)            (None, 26, 26, 64)        36928     \n",
      "_________________________________________________________________\n",
      "activation_5 (Activation)    (None, 26, 26, 64)        0         \n",
      "_________________________________________________________________\n",
      "conv2d_6 (Conv2D)            (None, 24, 24, 64)        36928     \n",
      "_________________________________________________________________\n",
      "activation_6 (Activation)    (None, 24, 24, 64)        0         \n",
      "_________________________________________________________________\n",
      "flatten_1 (Flatten)          (None, 36864)             0         \n",
      "_________________________________________________________________\n",
      "dense_1 (Dense)              (None, 1000)              36865000  \n",
      "_________________________________________________________________\n",
      "activation_7 (Activation)    (None, 1000)              0         \n",
      "_________________________________________________________________\n",
      "dense_2 (Dense)              (None, 256)               256256    \n",
      "_________________________________________________________________\n",
      "activation_8 (Activation)    (None, 256)               0         \n",
      "_________________________________________________________________\n",
      "dense_3 (Dense)              (None, 10)                2570      \n",
      "=================================================================\n",
      "Total params: 37,323,954\n",
      "Trainable params: 37,323,698\n",
      "Non-trainable params: 256\n",
      "_________________________________________________________________\n"
     ]
    }
   ],
   "source": [
    "model = get_cnn()\n",
    "model.compile(loss='mean_squared_error', optimizer=Adam(lr=0.00001), metrics=['mse'])\n",
    "model.summary()"
   ]
  },
  {
   "cell_type": "code",
   "execution_count": null,
   "metadata": {},
   "outputs": [
    {
     "name": "stdout",
     "output_type": "stream",
     "text": [
      "\n",
      "(154, 256, 256, 3)\n",
      "Epoch 1/1\n",
      "3/3 [==============================] - 29s 10s/step - loss: 21.1020 - mean_squared_error: 21.1020\n",
      "\n",
      "(132, 256, 256, 3)\n",
      "Epoch 1/1\n",
      "3/3 [==============================] - 23s 8s/step - loss: 7.1566 - mean_squared_error: 7.1566\n",
      "\n",
      "(184, 256, 256, 3)\n",
      "Epoch 1/1\n",
      "3/3 [==============================] - 31s 10s/step - loss: 3.9158 - mean_squared_error: 3.9158\n",
      "\n",
      "(153, 256, 256, 3)\n",
      "Epoch 1/1\n",
      "3/3 [==============================] - 26s 9s/step - loss: 4.6977 - mean_squared_error: 4.6977\n",
      "\n",
      "(66, 256, 256, 3)\n",
      "Epoch 1/1\n",
      "3/3 [==============================] - 12s 4s/step - loss: 3.1515 - mean_squared_error: 3.1515\n",
      "\n",
      "(243, 256, 256, 3)\n",
      "Epoch 1/1\n",
      "1/3 [=========>....................] - ETA: 31s - loss: 1.5175 - mean_squared_error: 1.5175"
     ]
    }
   ],
   "source": [
    "reader = LocalReader(width=256, height=256, shaping=SHRINK)\n",
    "for images, scores in reader.read(start=0, end=100):\n",
    "    mean_scores = getMean(scores)\n",
    "    print(images.shape)\n",
    "    model.fit(images, mean_scores, steps_per_epoch=3)"
   ]
  },
  {
   "cell_type": "code",
   "execution_count": 5,
   "metadata": {},
   "outputs": [],
   "source": [
    "import os\n",
    "def get_tar_names():\n",
    "    return [name.replace(\".tar.gz\", \"\") for name in os.listdir(\"data/images/original\")]"
   ]
  },
  {
   "cell_type": "code",
   "execution_count": 6,
   "metadata": {},
   "outputs": [],
   "source": [
    "tar_names = get_tar_names()"
   ]
  },
  {
   "cell_type": "code",
   "execution_count": 7,
   "metadata": {},
   "outputs": [],
   "source": [
    "import random\n",
    "def image_loader(batch_size, reader, tar_names):\n",
    "\n",
    "    L = len(tar_names)\n",
    "\n",
    "    #this line is just to make the generator infinite, keras needs that    \n",
    "    while True:\n",
    "\n",
    "        batch_start = 0\n",
    "        batch_end = batch_size\n",
    "\n",
    "        while batch_start < L:\n",
    "            random_tar = random.randint(1, len(tar_names))\n",
    "            \n",
    "            for images, scores in reader.read(start=random_tar, end=random_tar+1):\n",
    "                print(images.shape)\n",
    "                mean_scores = getMean(scores)\n",
    "                \n",
    "                random_image_ixs = [random.randint(0, len(images)-1) for i in range(0,batch_size)]\n",
    "                \n",
    "                random_images = images[random_image_ixs]\n",
    "                random_image_scores = mean_scores[random_image_ixs]\n",
    "                yield (random_images, random_image_scores) #a tuple with two numpy arrays with batch_size samples     \n",
    "\n",
    "            batch_start += 1"
   ]
  },
  {
   "cell_type": "code",
   "execution_count": 7,
   "metadata": {},
   "outputs": [],
   "source": [
    "reader = LocalReader(width=256, height=256, shaping=SHRINK)"
   ]
  },
  {
   "cell_type": "code",
   "execution_count": 8,
   "metadata": {},
   "outputs": [
    {
     "name": "stdout",
     "output_type": "stream",
     "text": [
      "\n",
      "Epoch 1/3\n"
     ]
    },
    {
     "ename": "TypeError",
     "evalue": "'tuple' object is not an iterator",
     "output_type": "error",
     "traceback": [
      "\u001b[0;31m---------------------------------------------------------------------------\u001b[0m",
      "\u001b[0;31mTypeError\u001b[0m                                 Traceback (most recent call last)",
      "\u001b[0;32m<ipython-input-8-3d360b4916e6>\u001b[0m in \u001b[0;36m<module>\u001b[0;34m()\u001b[0m\n\u001b[1;32m      1\u001b[0m \u001b[0;32mfor\u001b[0m \u001b[0mimages\u001b[0m\u001b[0;34m,\u001b[0m \u001b[0mscores\u001b[0m \u001b[0;32min\u001b[0m \u001b[0mreader\u001b[0m\u001b[0;34m.\u001b[0m\u001b[0mread\u001b[0m\u001b[0;34m(\u001b[0m\u001b[0mstart\u001b[0m\u001b[0;34m=\u001b[0m\u001b[0;36m0\u001b[0m\u001b[0;34m,\u001b[0m \u001b[0mend\u001b[0m\u001b[0;34m=\u001b[0m\u001b[0;36m100\u001b[0m\u001b[0;34m)\u001b[0m\u001b[0;34m:\u001b[0m\u001b[0;34m\u001b[0m\u001b[0m\n\u001b[0;32m----> 2\u001b[0;31m     \u001b[0mmodel\u001b[0m\u001b[0;34m.\u001b[0m\u001b[0mfit_generator\u001b[0m\u001b[0;34m(\u001b[0m\u001b[0;34m(\u001b[0m\u001b[0mimages\u001b[0m\u001b[0;34m,\u001b[0m\u001b[0mscores\u001b[0m\u001b[0;34m)\u001b[0m\u001b[0;34m,\u001b[0m \u001b[0mvalidation_data\u001b[0m \u001b[0;34m=\u001b[0m \u001b[0;34m(\u001b[0m\u001b[0mimages\u001b[0m\u001b[0;34m,\u001b[0m\u001b[0mscores\u001b[0m\u001b[0;34m)\u001b[0m\u001b[0;34m,\u001b[0m \u001b[0msteps_per_epoch\u001b[0m\u001b[0;34m=\u001b[0m\u001b[0;36m3\u001b[0m\u001b[0;34m,\u001b[0m \u001b[0mepochs\u001b[0m\u001b[0;34m=\u001b[0m\u001b[0;36m3\u001b[0m\u001b[0;34m)\u001b[0m\u001b[0;34m\u001b[0m\u001b[0m\n\u001b[0m",
      "\u001b[0;32m~/anaconda3/lib/python3.5/site-packages/keras/legacy/interfaces.py\u001b[0m in \u001b[0;36mwrapper\u001b[0;34m(*args, **kwargs)\u001b[0m\n\u001b[1;32m     89\u001b[0m                 warnings.warn('Update your `' + object_name +\n\u001b[1;32m     90\u001b[0m                               '` call to the Keras 2 API: ' + signature, stacklevel=2)\n\u001b[0;32m---> 91\u001b[0;31m             \u001b[0;32mreturn\u001b[0m \u001b[0mfunc\u001b[0m\u001b[0;34m(\u001b[0m\u001b[0;34m*\u001b[0m\u001b[0margs\u001b[0m\u001b[0;34m,\u001b[0m \u001b[0;34m**\u001b[0m\u001b[0mkwargs\u001b[0m\u001b[0;34m)\u001b[0m\u001b[0;34m\u001b[0m\u001b[0m\n\u001b[0m\u001b[1;32m     92\u001b[0m         \u001b[0mwrapper\u001b[0m\u001b[0;34m.\u001b[0m\u001b[0m_original_function\u001b[0m \u001b[0;34m=\u001b[0m \u001b[0mfunc\u001b[0m\u001b[0;34m\u001b[0m\u001b[0m\n\u001b[1;32m     93\u001b[0m         \u001b[0;32mreturn\u001b[0m \u001b[0mwrapper\u001b[0m\u001b[0;34m\u001b[0m\u001b[0m\n",
      "\u001b[0;32m~/anaconda3/lib/python3.5/site-packages/keras/engine/training.py\u001b[0m in \u001b[0;36mfit_generator\u001b[0;34m(self, generator, steps_per_epoch, epochs, verbose, callbacks, validation_data, validation_steps, class_weight, max_queue_size, workers, use_multiprocessing, shuffle, initial_epoch)\u001b[0m\n\u001b[1;32m   1413\u001b[0m             \u001b[0muse_multiprocessing\u001b[0m\u001b[0;34m=\u001b[0m\u001b[0muse_multiprocessing\u001b[0m\u001b[0;34m,\u001b[0m\u001b[0;34m\u001b[0m\u001b[0m\n\u001b[1;32m   1414\u001b[0m             \u001b[0mshuffle\u001b[0m\u001b[0;34m=\u001b[0m\u001b[0mshuffle\u001b[0m\u001b[0;34m,\u001b[0m\u001b[0;34m\u001b[0m\u001b[0m\n\u001b[0;32m-> 1415\u001b[0;31m             initial_epoch=initial_epoch)\n\u001b[0m\u001b[1;32m   1416\u001b[0m \u001b[0;34m\u001b[0m\u001b[0m\n\u001b[1;32m   1417\u001b[0m     \u001b[0;34m@\u001b[0m\u001b[0minterfaces\u001b[0m\u001b[0;34m.\u001b[0m\u001b[0mlegacy_generator_methods_support\u001b[0m\u001b[0;34m\u001b[0m\u001b[0m\n",
      "\u001b[0;32m~/anaconda3/lib/python3.5/site-packages/keras/engine/training_generator.py\u001b[0m in \u001b[0;36mfit_generator\u001b[0;34m(model, generator, steps_per_epoch, epochs, verbose, callbacks, validation_data, validation_steps, class_weight, max_queue_size, workers, use_multiprocessing, shuffle, initial_epoch)\u001b[0m\n\u001b[1;32m    175\u001b[0m             \u001b[0mbatch_index\u001b[0m \u001b[0;34m=\u001b[0m \u001b[0;36m0\u001b[0m\u001b[0;34m\u001b[0m\u001b[0m\n\u001b[1;32m    176\u001b[0m             \u001b[0;32mwhile\u001b[0m \u001b[0msteps_done\u001b[0m \u001b[0;34m<\u001b[0m \u001b[0msteps_per_epoch\u001b[0m\u001b[0;34m:\u001b[0m\u001b[0;34m\u001b[0m\u001b[0m\n\u001b[0;32m--> 177\u001b[0;31m                 \u001b[0mgenerator_output\u001b[0m \u001b[0;34m=\u001b[0m \u001b[0mnext\u001b[0m\u001b[0;34m(\u001b[0m\u001b[0moutput_generator\u001b[0m\u001b[0;34m)\u001b[0m\u001b[0;34m\u001b[0m\u001b[0m\n\u001b[0m\u001b[1;32m    178\u001b[0m \u001b[0;34m\u001b[0m\u001b[0m\n\u001b[1;32m    179\u001b[0m                 \u001b[0;32mif\u001b[0m \u001b[0;32mnot\u001b[0m \u001b[0mhasattr\u001b[0m\u001b[0;34m(\u001b[0m\u001b[0mgenerator_output\u001b[0m\u001b[0;34m,\u001b[0m \u001b[0;34m'__len__'\u001b[0m\u001b[0;34m)\u001b[0m\u001b[0;34m:\u001b[0m\u001b[0;34m\u001b[0m\u001b[0m\n",
      "\u001b[0;32m~/anaconda3/lib/python3.5/site-packages/keras/utils/data_utils.py\u001b[0m in \u001b[0;36mget\u001b[0;34m(self)\u001b[0m\n\u001b[1;32m    791\u001b[0m             \u001b[0msuccess\u001b[0m\u001b[0;34m,\u001b[0m \u001b[0mvalue\u001b[0m \u001b[0;34m=\u001b[0m \u001b[0mself\u001b[0m\u001b[0;34m.\u001b[0m\u001b[0mqueue\u001b[0m\u001b[0;34m.\u001b[0m\u001b[0mget\u001b[0m\u001b[0;34m(\u001b[0m\u001b[0;34m)\u001b[0m\u001b[0;34m\u001b[0m\u001b[0m\n\u001b[1;32m    792\u001b[0m             \u001b[0;32mif\u001b[0m \u001b[0;32mnot\u001b[0m \u001b[0msuccess\u001b[0m\u001b[0;34m:\u001b[0m\u001b[0;34m\u001b[0m\u001b[0m\n\u001b[0;32m--> 793\u001b[0;31m                 \u001b[0msix\u001b[0m\u001b[0;34m.\u001b[0m\u001b[0mreraise\u001b[0m\u001b[0;34m(\u001b[0m\u001b[0mvalue\u001b[0m\u001b[0;34m.\u001b[0m\u001b[0m__class__\u001b[0m\u001b[0;34m,\u001b[0m \u001b[0mvalue\u001b[0m\u001b[0;34m,\u001b[0m \u001b[0mvalue\u001b[0m\u001b[0;34m.\u001b[0m\u001b[0m__traceback__\u001b[0m\u001b[0;34m)\u001b[0m\u001b[0;34m\u001b[0m\u001b[0m\n\u001b[0m",
      "\u001b[0;32m~/anaconda3/lib/python3.5/site-packages/six.py\u001b[0m in \u001b[0;36mreraise\u001b[0;34m(tp, value, tb)\u001b[0m\n\u001b[1;32m    691\u001b[0m             \u001b[0;32mif\u001b[0m \u001b[0mvalue\u001b[0m\u001b[0;34m.\u001b[0m\u001b[0m__traceback__\u001b[0m \u001b[0;32mis\u001b[0m \u001b[0;32mnot\u001b[0m \u001b[0mtb\u001b[0m\u001b[0;34m:\u001b[0m\u001b[0;34m\u001b[0m\u001b[0m\n\u001b[1;32m    692\u001b[0m                 \u001b[0;32mraise\u001b[0m \u001b[0mvalue\u001b[0m\u001b[0;34m.\u001b[0m\u001b[0mwith_traceback\u001b[0m\u001b[0;34m(\u001b[0m\u001b[0mtb\u001b[0m\u001b[0;34m)\u001b[0m\u001b[0;34m\u001b[0m\u001b[0m\n\u001b[0;32m--> 693\u001b[0;31m             \u001b[0;32mraise\u001b[0m \u001b[0mvalue\u001b[0m\u001b[0;34m\u001b[0m\u001b[0m\n\u001b[0m\u001b[1;32m    694\u001b[0m         \u001b[0;32mfinally\u001b[0m\u001b[0;34m:\u001b[0m\u001b[0;34m\u001b[0m\u001b[0m\n\u001b[1;32m    695\u001b[0m             \u001b[0mvalue\u001b[0m \u001b[0;34m=\u001b[0m \u001b[0;32mNone\u001b[0m\u001b[0;34m\u001b[0m\u001b[0m\n",
      "\u001b[0;32m~/anaconda3/lib/python3.5/site-packages/keras/utils/data_utils.py\u001b[0m in \u001b[0;36m_data_generator_task\u001b[0;34m(self)\u001b[0m\n\u001b[1;32m    656\u001b[0m                             \u001b[0;31m# => Serialize calls to\u001b[0m\u001b[0;34m\u001b[0m\u001b[0;34m\u001b[0m\u001b[0m\n\u001b[1;32m    657\u001b[0m                             \u001b[0;31m# infinite iterator/generator's next() function\u001b[0m\u001b[0;34m\u001b[0m\u001b[0;34m\u001b[0m\u001b[0m\n\u001b[0;32m--> 658\u001b[0;31m                             \u001b[0mgenerator_output\u001b[0m \u001b[0;34m=\u001b[0m \u001b[0mnext\u001b[0m\u001b[0;34m(\u001b[0m\u001b[0mself\u001b[0m\u001b[0;34m.\u001b[0m\u001b[0m_generator\u001b[0m\u001b[0;34m)\u001b[0m\u001b[0;34m\u001b[0m\u001b[0m\n\u001b[0m\u001b[1;32m    659\u001b[0m                             \u001b[0mself\u001b[0m\u001b[0;34m.\u001b[0m\u001b[0mqueue\u001b[0m\u001b[0;34m.\u001b[0m\u001b[0mput\u001b[0m\u001b[0;34m(\u001b[0m\u001b[0;34m(\u001b[0m\u001b[0;32mTrue\u001b[0m\u001b[0;34m,\u001b[0m \u001b[0mgenerator_output\u001b[0m\u001b[0;34m)\u001b[0m\u001b[0;34m)\u001b[0m\u001b[0;34m\u001b[0m\u001b[0m\n\u001b[1;32m    660\u001b[0m                         \u001b[0;32melse\u001b[0m\u001b[0;34m:\u001b[0m\u001b[0;34m\u001b[0m\u001b[0m\n",
      "\u001b[0;31mTypeError\u001b[0m: 'tuple' object is not an iterator"
     ]
    }
   ],
   "source": [
    "\n",
    "    model.fit_generator((images,scores), validation_data = (images,scores), steps_per_epoch=3, epochs=3)"
   ]
  },
  {
   "cell_type": "code",
   "execution_count": null,
   "metadata": {},
   "outputs": [
    {
     "name": "stdout",
     "output_type": "stream",
     "text": [
      "Epoch 1/3\n",
      "\n",
      "\n",
      "\n",
      "\n",
      "\n",
      "\n",
      "\n",
      "\n",
      "\n",
      "1/3 [=========>....................] - ETA: 38s - loss: 1363.4987 - mean_squared_error: 1363.4987\n",
      "\n",
      "2/3 [===================>..........] - ETA: 14s - loss: 1081.9754 - mean_squared_error: 1081.9754\n",
      "\n",
      "\n",
      "\n",
      "\n",
      "3/3 [==============================] - 46s 15s/step - loss: 1041.8793 - mean_squared_error: 1041.8793 - val_loss: 1265.4120 - val_mean_squared_error: 1265.4120\n",
      "Epoch 2/3\n",
      "\n",
      "1/3 [=========>....................] - ETA: 19s - loss: 862.3293 - mean_squared_error: 862.3293\n",
      "2/3 [===================>..........] - ETA: 7s - loss: 622.0551 - mean_squared_error: 622.0551 \n",
      "3/3 [==============================] - 35s 12s/step - loss: 774.5340 - mean_squared_error: 774.5340 - val_loss: 681.7311 - val_mean_squared_error: 681.7311\n",
      "Epoch 3/3\n",
      "\n"
     ]
    }
   ],
   "source": [
    "model.fit_generator(reader.read(start=0, end=100), validation_data = reader.read(start=0, end=3, ), validation_steps=1, steps_per_epoch=3, epochs=3)"
   ]
  },
  {
   "cell_type": "code",
   "execution_count": 14,
   "metadata": {},
   "outputs": [],
   "source": [
    "res = model.predict(val_images)"
   ]
  },
  {
   "cell_type": "code",
   "execution_count": 22,
   "metadata": {},
   "outputs": [
    {
     "name": "stdout",
     "output_type": "stream",
     "text": [
      "pred: 5.8442802 true: 4.2591093117408905 ix: 0\n",
      "pred: 5.143937 true: 5.44488188976378 ix: 1\n",
      "pred: 5.8160887 true: 5.603174603174603 ix: 2\n",
      "pred: 6.065269 true: 4.120967741935484 ix: 3\n",
      "pred: 6.302983 true: 5.945945945945946 ix: 4\n",
      "pred: 5.33452 true: 4.855371900826446 ix: 5\n",
      "pred: 5.1396165 true: 5.5436507936507935 ix: 6\n",
      "pred: 5.038646 true: 5.104 ix: 7\n",
      "pred: 5.5324626 true: 5.26953125 ix: 8\n",
      "pred: 4.883533 true: 4.54863813229572 ix: 9\n",
      "pred: 5.3768 true: 5.874509803921568 ix: 10\n",
      "pred: 5.236091 true: 3.57085020242915 ix: 11\n",
      "pred: 6.706098 true: 4.2217573221757325 ix: 12\n",
      "pred: 5.8227534 true: 6.058091286307054 ix: 13\n",
      "pred: 5.349895 true: 5.004098360655738 ix: 14\n",
      "pred: 5.579125 true: 5.723735408560311 ix: 15\n",
      "pred: 5.1008162 true: 6.012195121951219 ix: 16\n",
      "pred: 5.5452743 true: 5.755813953488372 ix: 17\n",
      "pred: 6.194382 true: 6.124 ix: 18\n",
      "pred: 5.0618825 true: 5.309236947791165 ix: 19\n",
      "pred: 6.1361623 true: 5.336065573770492 ix: 20\n",
      "pred: 5.653971 true: 5.108 ix: 21\n",
      "pred: 5.5065284 true: 5.97244094488189 ix: 22\n",
      "pred: 5.735056 true: 4.7809917355371905 ix: 23\n",
      "pred: 5.382895 true: 4.571428571428571 ix: 24\n",
      "pred: 5.7723317 true: 6.906015037593985 ix: 25\n",
      "pred: 5.2461104 true: 5.419354838709677 ix: 26\n",
      "pred: 5.176485 true: 4.845188284518828 ix: 27\n",
      "pred: 5.5802746 true: 5.179282868525896 ix: 28\n",
      "pred: 4.8352785 true: 4.319502074688796 ix: 29\n",
      "pred: 5.651835 true: 5.645418326693227 ix: 30\n",
      "pred: 5.2701297 true: 5.823293172690763 ix: 31\n",
      "pred: 5.8195853 true: 5.765873015873016 ix: 32\n",
      "pred: 4.9540114 true: 5.28755364806867 ix: 33\n",
      "pred: 5.365444 true: 5.097560975609756 ix: 34\n",
      "pred: 6.341171 true: 6.104838709677419 ix: 35\n",
      "pred: 5.591723 true: 5.440816326530612 ix: 36\n",
      "pred: 5.2667575 true: 6.306513409961686 ix: 37\n",
      "pred: 5.6524687 true: 4.868525896414343 ix: 38\n",
      "pred: 6.355252 true: 5.9689922480620154 ix: 39\n",
      "pred: 5.570111 true: 5.116279069767442 ix: 40\n",
      "pred: 5.872054 true: 4.972762645914397 ix: 41\n",
      "pred: 5.367594 true: 4.390041493775934 ix: 42\n",
      "pred: 5.251783 true: 6.325581395348837 ix: 43\n",
      "pred: 5.8958254 true: 5.042016806722689 ix: 44\n",
      "pred: 5.4866023 true: 5.370967741935484 ix: 45\n",
      "pred: 5.662819 true: 4.591836734693878 ix: 46\n",
      "pred: 5.1217737 true: 6.164658634538153 ix: 47\n",
      "pred: 5.4107556 true: 5.344827586206897 ix: 48\n",
      "pred: 5.428183 true: 4.9714285714285715 ix: 49\n",
      "pred: 5.365896 true: 4.485714285714286 ix: 50\n",
      "pred: 5.4893727 true: 6.2384615384615385 ix: 51\n",
      "pred: 5.484816 true: 4.050209205020921 ix: 52\n",
      "pred: 5.320222 true: 4.971311475409836 ix: 53\n",
      "pred: 4.92989 true: 5.8062015503875966 ix: 54\n",
      "pred: 5.6746535 true: 5.1570247933884295 ix: 55\n",
      "pred: 5.831695 true: 5.42578125 ix: 56\n",
      "pred: 5.5481663 true: 5.4534412955465585 ix: 57\n",
      "pred: 5.231128 true: 5.449612403100775 ix: 58\n",
      "pred: 5.2413964 true: 4.739130434782608 ix: 59\n",
      "pred: 5.4034266 true: 5.746938775510204 ix: 60\n",
      "pred: 5.771215 true: 4.894308943089431 ix: 61\n",
      "pred: 5.0707154 true: 5.19672131147541 ix: 62\n",
      "pred: 5.1944437 true: 5.545454545454546 ix: 63\n",
      "pred: 5.561507 true: 5.08502024291498 ix: 64\n",
      "pred: 5.2745595 true: 4.959839357429719 ix: 65\n",
      "pred: 5.6067886 true: 5.597609561752988 ix: 66\n",
      "pred: 5.351478 true: 6.47191011235955 ix: 67\n",
      "pred: 5.8631 true: 5.217741935483871 ix: 68\n",
      "pred: 5.6972737 true: 4.048979591836734 ix: 69\n",
      "pred: 6.2302513 true: 4.30801687763713 ix: 70\n",
      "pred: 5.3643117 true: 3.9227642276422765 ix: 71\n",
      "pred: 5.46225 true: 5.154761904761905 ix: 72\n",
      "pred: 5.0971527 true: 5.83984375 ix: 73\n",
      "pred: 5.523387 true: 6.872659176029963 ix: 74\n",
      "pred: 5.876765 true: 5.4591439688715955 ix: 75\n",
      "pred: 4.6695676 true: 4.518218623481781 ix: 76\n",
      "pred: 5.8579764 true: 5.681102362204724 ix: 77\n",
      "pred: 5.331092 true: 5.307086614173229 ix: 78\n",
      "pred: 5.316767 true: 3.841463414634146 ix: 79\n",
      "pred: 5.1406927 true: 5.509803921568627 ix: 80\n",
      "pred: 5.3291736 true: 4.35 ix: 81\n",
      "pred: 5.100051 true: 5.737903225806452 ix: 82\n",
      "pred: 5.691318 true: 4.8979591836734695 ix: 83\n",
      "pred: 5.675328 true: 4.201612903225806 ix: 84\n",
      "pred: 5.4059644 true: 6.06640625 ix: 85\n",
      "pred: 5.758516 true: 3.9552845528455283 ix: 86\n",
      "pred: 5.612672 true: 6.208163265306123 ix: 87\n",
      "pred: 5.549646 true: 5.307086614173229 ix: 88\n",
      "pred: 5.749589 true: 5.863453815261044 ix: 89\n",
      "pred: 4.3281064 true: 5.040485829959514 ix: 90\n",
      "pred: 5.4001427 true: 5.604 ix: 91\n",
      "pred: 5.4082317 true: 4.008298755186722 ix: 92\n",
      "pred: 4.6419864 true: 4.39453125 ix: 93\n",
      "pred: 5.578961 true: 5.761904761904762 ix: 94\n",
      "pred: 5.5471463 true: 6.448818897637795 ix: 95\n",
      "pred: 5.217903 true: 6.1953125 ix: 96\n",
      "pred: 5.053867 true: 6.529411764705882 ix: 97\n",
      "pred: 4.8719983 true: 6.555555555555555 ix: 98\n",
      "pred: 4.9946127 true: 5.455645161290323 ix: 99\n",
      "pred: 5.384188 true: 5.9156626506024095 ix: 100\n",
      "pred: 5.8152766 true: 6.173584905660378 ix: 101\n",
      "pred: 5.478486 true: 5.008130081300813 ix: 102\n",
      "pred: 5.5847216 true: 6.159533073929961 ix: 103\n",
      "pred: 5.2712464 true: 5.820408163265306 ix: 104\n",
      "pred: 5.3992953 true: 4.340248962655601 ix: 105\n",
      "pred: 5.368032 true: 4.633744855967078 ix: 106\n",
      "pred: 5.852151 true: 5.722222222222222 ix: 107\n",
      "pred: 4.9440265 true: 6.272030651340996 ix: 108\n",
      "pred: 5.5284367 true: 3.9958677685950414 ix: 109\n",
      "pred: 5.931115 true: 5.126530612244898 ix: 110\n",
      "pred: 4.897225 true: 8.387453874538746 ix: 111\n",
      "pred: 5.205031 true: 7.294117647058823 ix: 112\n",
      "pred: 6.1334763 true: 5.780876494023905 ix: 113\n",
      "pred: 5.2298756 true: 5.467680608365019 ix: 114\n",
      "pred: 5.9803433 true: 4.214285714285714 ix: 115\n",
      "pred: 5.2345676 true: 5.98443579766537 ix: 116\n",
      "pred: 5.038315 true: 4.634920634920635 ix: 117\n",
      "pred: 5.583629 true: 6.482490272373541 ix: 118\n",
      "pred: 5.7816553 true: 4.969298245614035 ix: 119\n",
      "pred: 5.2972636 true: 6.35632183908046 ix: 120\n",
      "pred: 5.07848 true: 6.670498084291188 ix: 121\n",
      "pred: 5.0724025 true: 6.142292490118577 ix: 122\n",
      "pred: 5.3491025 true: 5.542857142857143 ix: 123\n",
      "pred: 6.467032 true: 4.868 ix: 124\n",
      "pred: 5.5560236 true: 6.023346303501945 ix: 125\n",
      "pred: 5.120072 true: 4.606425702811245 ix: 126\n",
      "pred: 4.853016 true: 4.7991967871485945 ix: 127\n",
      "pred: 5.361642 true: 5.971887550200803 ix: 128\n",
      "pred: 4.457616 true: 4.782786885245901 ix: 129\n",
      "pred: 6.657967 true: 5.926356589147287 ix: 130\n",
      "pred: 5.8064604 true: 6.099616858237548 ix: 131\n",
      "pred: 4.983928 true: 5.751937984496124 ix: 132\n",
      "pred: 5.415277 true: 5.314285714285714 ix: 133\n",
      "pred: 5.104955 true: 4.948207171314741 ix: 134\n",
      "pred: 5.3524632 true: 5.264822134387352 ix: 135\n",
      "pred: 4.881999 true: 6.071969696969697 ix: 136\n",
      "pred: 5.544969 true: 5.42 ix: 137\n",
      "pred: 5.629768 true: 5.666666666666667 ix: 138\n",
      "pred: 4.8180995 true: 4.905349794238683 ix: 139\n",
      "pred: 5.320886 true: 6.044354838709677 ix: 140\n",
      "pred: 6.0812078 true: 4.617283950617284 ix: 141\n",
      "pred: 5.91513 true: 5.390625 ix: 142\n",
      "pred: 5.9976583 true: 5.568464730290456 ix: 143\n",
      "pred: 5.6680636 true: 5.98046875 ix: 144\n",
      "pred: 5.319636 true: 6.274131274131274 ix: 145\n",
      "pred: 5.116131 true: 4.806451612903226 ix: 146\n",
      "pred: 5.700952 true: 6.242063492063492 ix: 147\n",
      "pred: 5.4003353 true: 4.069387755102041 ix: 148\n",
      "pred: 6.006082 true: 5.0519480519480515 ix: 149\n",
      "pred: 5.143294 true: 4.512396694214876 ix: 150\n",
      "pred: 5.125232 true: 4.761904761904762 ix: 151\n",
      "pred: 5.837987 true: 6.728 ix: 152\n",
      "pred: 5.940647 true: 5.229838709677419 ix: 153\n"
     ]
    }
   ],
   "source": [
    "for i in range(len(res)):\n",
    "    print(\"pred:\", res[i][0], \"true:\", val_scores[i], \"ix:\", i)"
   ]
  },
  {
   "cell_type": "code",
   "execution_count": 25,
   "metadata": {},
   "outputs": [],
   "source": [
    "from PIL import Image\n",
    "\n",
    "data = val_images[90]\n",
    "img = Image.fromarray(data, 'RGB')\n",
    "img.show()"
   ]
  },
  {
   "cell_type": "code",
   "execution_count": null,
   "metadata": {},
   "outputs": [],
   "source": []
  }
 ],
 "metadata": {
  "kernelspec": {
   "display_name": "Python [conda env:anaconda3]",
   "language": "python",
   "name": "conda-env-anaconda3-py"
  },
  "language_info": {
   "codemirror_mode": {
    "name": "ipython",
    "version": 3
   },
   "file_extension": ".py",
   "mimetype": "text/x-python",
   "name": "python",
   "nbconvert_exporter": "python",
   "pygments_lexer": "ipython3",
   "version": "3.5.5"
  }
 },
 "nbformat": 4,
 "nbformat_minor": 2
}
