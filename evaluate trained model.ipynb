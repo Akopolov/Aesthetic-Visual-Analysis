{
 "cells": [
  {
   "cell_type": "code",
   "execution_count": 44,
   "metadata": {},
   "outputs": [],
   "source": [
    "from PIL import Image\n",
    "import numpy as np\n",
    "from src.localreader import LocalReader, SHRINK, CENTERING, getMean"
   ]
  },
  {
   "cell_type": "code",
   "execution_count": 7,
   "metadata": {},
   "outputs": [],
   "source": [
    "from keras.models import Model, load_model\n",
    "from keras.layers import Input, Conv2D, MaxPooling2D, Activation, Flatten, Dense, BatchNormalization\n",
    "from keras.optimizers import Adam"
   ]
  },
  {
   "cell_type": "code",
   "execution_count": 2,
   "metadata": {},
   "outputs": [],
   "source": [
    "model = load_model(\"full-weights-improvement-04-0.65.hdf5\")"
   ]
  },
  {
   "cell_type": "code",
   "execution_count": 19,
   "metadata": {},
   "outputs": [],
   "source": [
    "reader = LocalReader(width=256, height=256, shaping=SHRINK, validation_size=0.0, img_path='data/images/testing')"
   ]
  },
  {
   "cell_type": "code",
   "execution_count": 31,
   "metadata": {},
   "outputs": [],
   "source": [
    "def test_generator(reader):\n",
    "    for images, scores in reader.train(end=167):\n",
    "        for i in range(0, len(images), 32):\n",
    "            imgs = images[i:i+32]\n",
    "            scrs = scores[i:i+32]\n",
    "            yield (imgs, scrs)"
   ]
  },
  {
   "cell_type": "code",
   "execution_count": 32,
   "metadata": {},
   "outputs": [],
   "source": [
    "res = model.evaluate_generator(test_generator(reader), steps=59)"
   ]
  },
  {
   "cell_type": "code",
   "execution_count": 30,
   "metadata": {},
   "outputs": [
    {
     "data": {
      "text/plain": [
       "[0.6294767776968245, 0.6294767776968245]"
      ]
     },
     "execution_count": 30,
     "metadata": {},
     "output_type": "execute_result"
    }
   ],
   "source": [
    "#test loss (mean squared error)\n",
    "res"
   ]
  },
  {
   "cell_type": "markdown",
   "metadata": {},
   "source": [
    "### Get predictions"
   ]
  },
  {
   "cell_type": "code",
   "execution_count": 88,
   "metadata": {},
   "outputs": [],
   "source": [
    "def get_true_values(reader):\n",
    "    true_values = []\n",
    "    imgs = []\n",
    "    for images, scores in reader.train(end=167):\n",
    "        true_values.append(scores)\n",
    "        imgs.append(images)\n",
    "    return np.concatenate(true_values), np.concatenate(imgs)\n",
    "\n",
    "def show_img(data):\n",
    "    img = Image.fromarray(data, 'RGB')\n",
    "    img.show()"
   ]
  },
  {
   "cell_type": "code",
   "execution_count": 37,
   "metadata": {},
   "outputs": [],
   "source": [
    "predictions = model.predict_generator(test_generator(reader), steps=59)"
   ]
  },
  {
   "cell_type": "code",
   "execution_count": 66,
   "metadata": {},
   "outputs": [],
   "source": [
    "true_values, images = get_true_values(reader)"
   ]
  },
  {
   "cell_type": "code",
   "execution_count": 64,
   "metadata": {},
   "outputs": [
    {
     "data": {
      "text/plain": [
       "True"
      ]
     },
     "execution_count": 64,
     "metadata": {},
     "output_type": "execute_result"
    }
   ],
   "source": [
    "len(predictions) == len(true_values)"
   ]
  },
  {
   "cell_type": "code",
   "execution_count": 67,
   "metadata": {},
   "outputs": [
    {
     "name": "stdout",
     "output_type": "stream",
     "text": [
      "true: 4.9953271028037385 \t predicted: 5.4986243\n",
      "true: 4.921568627450981 \t predicted: 5.128674\n",
      "true: 5.792270531400966 \t predicted: 5.2465067\n",
      "true: 5.752475247524752 \t predicted: 5.35035\n",
      "true: 6.228971962616822 \t predicted: 5.7382054\n",
      "true: 6.6761904761904765 \t predicted: 4.9721026\n",
      "true: 4.898058252427185 \t predicted: 5.3504405\n",
      "true: 6.172897196261682 \t predicted: 5.285688\n",
      "true: 5.966346153846154 \t predicted: 5.437385\n",
      "true: 3.9121951219512194 \t predicted: 5.7300835\n"
     ]
    }
   ],
   "source": [
    "for i in range(10):\n",
    "    print(\"true:\", true_values[i], \"\\t\", \"predicted:\", predictions[i][0])"
   ]
  },
  {
   "cell_type": "code",
   "execution_count": 90,
   "metadata": {},
   "outputs": [],
   "source": [
    "#image with highest and lowest predicted scores\n",
    "highest = np.argmax(predictions)\n",
    "lowest = np.argmin(predictions)"
   ]
  },
  {
   "cell_type": "code",
   "execution_count": 81,
   "metadata": {},
   "outputs": [
    {
     "name": "stdout",
     "output_type": "stream",
     "text": [
      "predicted highest: 14.229767 true: 5.039823008849558\n"
     ]
    }
   ],
   "source": [
    "print(\"predicted highest:\", predictions[highest][0], \"true:\", true_values[highest])"
   ]
  },
  {
   "cell_type": "code",
   "execution_count": 79,
   "metadata": {},
   "outputs": [
    {
     "name": "stdout",
     "output_type": "stream",
     "text": [
      "predicted lowest: 4.3192706 true: 5.321212121212121\n"
     ]
    }
   ],
   "source": [
    "print(\"predicted lowest:\", predictions[lowest][0], \"true:\", true_values[lowest])"
   ]
  },
  {
   "cell_type": "code",
   "execution_count": 91,
   "metadata": {},
   "outputs": [],
   "source": [
    "show_img(images[highest])\n",
    "show_img(images[lowest])"
   ]
  },
  {
   "cell_type": "code",
   "execution_count": 92,
   "metadata": {},
   "outputs": [],
   "source": [
    "#image with highest and lowest true scores\n",
    "highest = np.argmax(true_values)\n",
    "lowest = np.argmin(true_values)"
   ]
  },
  {
   "cell_type": "code",
   "execution_count": 93,
   "metadata": {},
   "outputs": [
    {
     "name": "stdout",
     "output_type": "stream",
     "text": [
      "true highest: 7.861538461538461 predicted: 5.2966785\n"
     ]
    }
   ],
   "source": [
    "print(\"true highest:\", true_values[highest], \"predicted:\", predictions[highest][0])"
   ]
  },
  {
   "cell_type": "code",
   "execution_count": 94,
   "metadata": {},
   "outputs": [
    {
     "name": "stdout",
     "output_type": "stream",
     "text": [
      "true lowest: 3.092233009708738 predicted: 5.006703\n"
     ]
    }
   ],
   "source": [
    "print(\"true lowest:\", true_values[lowest], \"predicted:\", predictions[lowest][0])"
   ]
  },
  {
   "cell_type": "code",
   "execution_count": 95,
   "metadata": {},
   "outputs": [],
   "source": [
    "show_img(images[highest])\n",
    "show_img(images[lowest])"
   ]
  },
  {
   "cell_type": "code",
   "execution_count": 99,
   "metadata": {},
   "outputs": [],
   "source": [
    "#largest difference in predictions\n",
    "largest = 0\n",
    "for i in range(len(true_values)):\n",
    "    if(abs(true_values[i] - predictions[i][0])) > largest:\n",
    "        largest = i"
   ]
  },
  {
   "cell_type": "code",
   "execution_count": 101,
   "metadata": {},
   "outputs": [
    {
     "name": "stdout",
     "output_type": "stream",
     "text": [
      "true: 4.810650887573964 predicted: 12.18195\n"
     ]
    }
   ],
   "source": [
    "print(\"true:\", true_values[largest], \"predicted:\", predictions[largest][0])"
   ]
  },
  {
   "cell_type": "code",
   "execution_count": 105,
   "metadata": {},
   "outputs": [],
   "source": [
    "show_img(images[largest])"
   ]
  },
  {
   "cell_type": "code",
   "execution_count": null,
   "metadata": {},
   "outputs": [],
   "source": []
  }
 ],
 "metadata": {
  "kernelspec": {
   "display_name": "Python [conda env:anaconda3]",
   "language": "python",
   "name": "conda-env-anaconda3-py"
  },
  "language_info": {
   "codemirror_mode": {
    "name": "ipython",
    "version": 3
   },
   "file_extension": ".py",
   "mimetype": "text/x-python",
   "name": "python",
   "nbconvert_exporter": "python",
   "pygments_lexer": "ipython3",
   "version": "3.5.5"
  }
 },
 "nbformat": 4,
 "nbformat_minor": 2
}
